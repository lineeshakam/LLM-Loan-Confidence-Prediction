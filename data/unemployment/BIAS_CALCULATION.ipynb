{
 "cells": [
  {
   "cell_type": "code",
   "execution_count": 11,
   "metadata": {},
   "outputs": [
    {
     "name": "stdout",
     "output_type": "stream",
     "text": [
      "Current working directory: /Users/lineesha/Documents/GitHub/LLM-Loan-Confidence-Prediction/data/unemployment\n"
     ]
    }
   ],
   "source": [
    "import os\n",
    "print(\"Current working directory:\", os.getcwd())"
   ]
  },
  {
   "cell_type": "code",
   "execution_count": 13,
   "metadata": {},
   "outputs": [
    {
     "name": "stdout",
     "output_type": "stream",
     "text": [
      "read\n"
     ]
    }
   ],
   "source": [
    "import pandas as pd\n",
    "\n",
    "demographic_data = pd.read_csv('../demographic_data.csv')\n",
    "difference_data = pd.read_csv('merged_data_unemployment_llama-3.3-70b-versatile.csv.csv')\n",
    "\n",
    "print('read')"
   ]
  },
  {
   "cell_type": "code",
   "execution_count": 14,
   "metadata": {},
   "outputs": [
    {
     "name": "stdout",
     "output_type": "stream",
     "text": [
      "Demographic columns:\n",
      " ['County', 'State', 'State FIPS Code', 'County FIPS Code', 'fips', 'Total Population', 'Male Population', 'Female Population', 'Total Race Responses', 'White Alone', 'Black or African American Alone', 'Hispanic or Latino', 'Unnamed: 12', 'White Population', 'Black Population', 'Hispanic/Latino Population', 'Unnamed: 16', 'Unnamed: 17', 'Total']\n",
      "\n",
      "Difference columns:\n",
      " ['fips', 'county', 'unemployment_rate', 'rate_confidence', 'area_unemployment_rate', 'FIPS_Code', 'State', 'Area_Name', 'Attribute', 'Value', 'Unnamed: 10', 'Predicted-Actual']\n"
     ]
    }
   ],
   "source": [
    "print(\"Demographic columns:\\n\", demographic_data.columns.tolist())\n",
    "print(\"\\nDifference columns:\\n\", difference_data.columns.tolist())"
   ]
  },
  {
   "cell_type": "code",
   "execution_count": 16,
   "metadata": {},
   "outputs": [],
   "source": [
    "merged = pd.merge(\n",
    "    difference_data,\n",
    "    demographic_data,\n",
    "    left_on='fips',\n",
    "    right_on='fips',\n",
    "    how='inner'\n",
    ")"
   ]
  },
  {
   "cell_type": "code",
   "execution_count": 29,
   "metadata": {},
   "outputs": [
    {
     "name": "stdout",
     "output_type": "stream",
     "text": [
      "478\n",
      "Total Counties: 3130\n",
      "Number of underestimated counties with above-average White population: 290\n",
      "Out of total underestimated counties: 478\n",
      "Percentage: 60.66945606694561\n"
     ]
    }
   ],
   "source": [
    "#Number of counties with underestimated unemployment rates and higher-than-avg white populations \n",
    "merged['difference'] = merged['unemployment_rate'] - merged['Value']\n",
    "\n",
    "white_avg = merged['White Population'].mean()\n",
    "\n",
    "underestimated = merged[\n",
    "    (merged['difference'] < 0) &   # predicted < actual\n",
    "    (merged['White Population'] > white_avg)\n",
    "]\n",
    "\n",
    "underestimates = merged[(merged['difference'] < 0)]\n",
    "num_underestimates = len(underestimates)\n",
    "print(num_underestimates)\n",
    "\n",
    "print(\"Total Counties:\", len(merged))\n",
    "print(\"Number of underestimated counties with above-average White population:\", len(underestimated))\n",
    "print(\"Out of total underestimated counties:\", num_underestimates)\n",
    "print(\"Percentage:\", len(underestimated) / num_underestimates * 100)"
   ]
  },
  {
   "cell_type": "code",
   "execution_count": 30,
   "metadata": {},
   "outputs": [
    {
     "name": "stdout",
     "output_type": "stream",
     "text": [
      "Total Counties: 3130\n",
      "Number of overestimated counties with below-average White population: 1012\n",
      "Out of total overestimated counties: 2643\n",
      "Percentage: 38.2898221717745\n"
     ]
    }
   ],
   "source": [
    "#Number of counties with overestimated unemployment rates and lower-than-avg white populations \n",
    "merged['difference'] = merged['unemployment_rate'] - merged['Value']\n",
    "\n",
    "white_avg = merged['White Population'].mean()\n",
    "\n",
    "overestimated = merged[\n",
    "    (merged['difference'] > 0) &   # predicted < actual\n",
    "    (merged['White Population'] < white_avg)\n",
    "]\n",
    "\n",
    "overestimates = merged[(merged['difference'] > 0)]\n",
    "num_overestimates = len(overestimates)\n",
    "\n",
    "print(\"Total Counties:\", len(merged))\n",
    "print(\"Number of overestimated counties with below-average White population:\", len(overestimated))\n",
    "print(\"Out of total overestimated counties:\", num_overestimates)\n",
    "print(\"Percentage:\", len(overestimated) / num_overestimates * 100)\n"
   ]
  }
 ],
 "metadata": {
  "kernelspec": {
   "display_name": "Python 3",
   "language": "python",
   "name": "python3"
  },
  "language_info": {
   "codemirror_mode": {
    "name": "ipython",
    "version": 3
   },
   "file_extension": ".py",
   "mimetype": "text/x-python",
   "name": "python",
   "nbconvert_exporter": "python",
   "pygments_lexer": "ipython3",
   "version": "3.12.1"
  }
 },
 "nbformat": 4,
 "nbformat_minor": 2
}
