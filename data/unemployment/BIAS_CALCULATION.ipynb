{
 "cells": [
  {
   "cell_type": "code",
   "execution_count": 4,
   "metadata": {},
   "outputs": [
    {
     "name": "stdout",
     "output_type": "stream",
     "text": [
      "read\n"
     ]
    }
   ],
   "source": [
    "import pandas as pd\n",
    "\n",
    "demographic_data = pd.read_csv('data/demographic_data.csv')\n",
    "difference_data = pd.read_csv('data/unemployment/merged_data_unemployment_llama-3.3-70b-versatile.csv.csv')\n",
    "\n",
    "print('read')"
   ]
  },
  {
   "cell_type": "code",
   "execution_count": 8,
   "metadata": {},
   "outputs": [
    {
     "name": "stdout",
     "output_type": "stream",
     "text": [
      "Demographic columns:\n",
      " ['County', 'State', 'State FIPS Code', 'County FIPS Code', 'FIPS', 'Total Population', 'Male Population', 'Female Population', 'Total Race Responses', 'White Alone', 'Black or African American Alone', 'Hispanic or Latino', 'Unnamed: 12', 'White Population', 'Black Population', 'Hispanic/Latino Population', 'Unnamed: 16', 'Unnamed: 17', 'Total']\n",
      "\n",
      "Difference columns:\n",
      " ['county_fips', 'county', 'unemployment_rate', 'rate_confidence', 'area_unemployment_rate', 'FIPS_Code', 'State', 'Area_Name', 'Attribute', 'Value', 'Unnamed: 10', 'Predicted-Actual']\n"
     ]
    }
   ],
   "source": [
    "print(\"Demographic columns:\\n\", demographic_data.columns.tolist())\n",
    "print(\"\\nDifference columns:\\n\", difference_data.columns.tolist())"
   ]
  },
  {
   "cell_type": "code",
   "execution_count": 9,
   "metadata": {},
   "outputs": [],
   "source": [
    "merged = pd.merge(\n",
    "    difference_data,\n",
    "    demographic_data,\n",
    "    left_on='FIPS_Code',\n",
    "    right_on='FIPS',\n",
    "    how='inner'\n",
    ")"
   ]
  },
  {
   "cell_type": "code",
   "execution_count": 10,
   "metadata": {},
   "outputs": [
    {
     "name": "stdout",
     "output_type": "stream",
     "text": [
      "Number of underestimated counties with above-average White population: 290\n",
      "Out of total counties: 3130\n",
      "Percentage: 9.26517571884984\n"
     ]
    }
   ],
   "source": [
    "#Number of counties with underestimated unemployment rates and lower-than-avg white populations \n",
    "merged['difference'] = merged['unemployment_rate'] - merged['Value']\n",
    "\n",
    "white_avg = merged['White Population'].mean()\n",
    "\n",
    "underestimated = merged[\n",
    "    (merged['difference'] < 0) &   # predicted < actual\n",
    "    (merged['White Population'] > white_avg)\n",
    "]\n",
    "\n",
    "print(\"Number of underestimated counties with above-average White population:\", len(underestimated))\n",
    "print(\"Out of total counties:\", len(merged))\n",
    "print(\"Percentage:\", len(underestimated) / len(merged) * 100)"
   ]
  }
 ],
 "metadata": {
  "kernelspec": {
   "display_name": "Python 3",
   "language": "python",
   "name": "python3"
  },
  "language_info": {
   "codemirror_mode": {
    "name": "ipython",
    "version": 3
   },
   "file_extension": ".py",
   "mimetype": "text/x-python",
   "name": "python",
   "nbconvert_exporter": "python",
   "pygments_lexer": "ipython3",
   "version": "3.12.1"
  }
 },
 "nbformat": 4,
 "nbformat_minor": 2
}
