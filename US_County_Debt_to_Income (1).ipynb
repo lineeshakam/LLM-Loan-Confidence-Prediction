{
  "nbformat": 4,
  "nbformat_minor": 0,
  "metadata": {
    "colab": {
      "provenance": []
    },
    "kernelspec": {
      "name": "python3",
      "display_name": "Python 3"
    },
    "language_info": {
      "name": "python"
    }
  },
  "cells": [
    {
      "cell_type": "code",
      "source": [
        "#api key:\n",
        "import os\n",
        "os.environ[\"GROQ_API_KEY\"] = \"\""
      ],
      "metadata": {
        "id": "6NAIqnKOmCYi"
      },
      "execution_count": 2,
      "outputs": []
    },
    {
      "cell_type": "code",
      "source": [
        "!pip install pandas tqdm pgeocode python-dotenv openai"
      ],
      "metadata": {
        "id": "9pczEz45lz-F",
        "colab": {
          "base_uri": "https://localhost:8080/"
        },
        "outputId": "f38d5097-6165-488d-87aa-6ec47c4ded74"
      },
      "execution_count": 3,
      "outputs": [
        {
          "output_type": "stream",
          "name": "stdout",
          "text": [
            "Requirement already satisfied: pandas in /usr/local/lib/python3.12/dist-packages (2.2.2)\n",
            "Requirement already satisfied: tqdm in /usr/local/lib/python3.12/dist-packages (4.67.1)\n",
            "Collecting pgeocode\n",
            "  Downloading pgeocode-0.5.0-py3-none-any.whl.metadata (7.9 kB)\n",
            "Requirement already satisfied: python-dotenv in /usr/local/lib/python3.12/dist-packages (1.1.1)\n",
            "Requirement already satisfied: openai in /usr/local/lib/python3.12/dist-packages (1.109.1)\n",
            "Requirement already satisfied: numpy>=1.26.0 in /usr/local/lib/python3.12/dist-packages (from pandas) (2.0.2)\n",
            "Requirement already satisfied: python-dateutil>=2.8.2 in /usr/local/lib/python3.12/dist-packages (from pandas) (2.9.0.post0)\n",
            "Requirement already satisfied: pytz>=2020.1 in /usr/local/lib/python3.12/dist-packages (from pandas) (2025.2)\n",
            "Requirement already satisfied: tzdata>=2022.7 in /usr/local/lib/python3.12/dist-packages (from pandas) (2025.2)\n",
            "Requirement already satisfied: requests in /usr/local/lib/python3.12/dist-packages (from pgeocode) (2.32.4)\n",
            "Requirement already satisfied: anyio<5,>=3.5.0 in /usr/local/lib/python3.12/dist-packages (from openai) (4.11.0)\n",
            "Requirement already satisfied: distro<2,>=1.7.0 in /usr/local/lib/python3.12/dist-packages (from openai) (1.9.0)\n",
            "Requirement already satisfied: httpx<1,>=0.23.0 in /usr/local/lib/python3.12/dist-packages (from openai) (0.28.1)\n",
            "Requirement already satisfied: jiter<1,>=0.4.0 in /usr/local/lib/python3.12/dist-packages (from openai) (0.11.0)\n",
            "Requirement already satisfied: pydantic<3,>=1.9.0 in /usr/local/lib/python3.12/dist-packages (from openai) (2.11.10)\n",
            "Requirement already satisfied: sniffio in /usr/local/lib/python3.12/dist-packages (from openai) (1.3.1)\n",
            "Requirement already satisfied: typing-extensions<5,>=4.11 in /usr/local/lib/python3.12/dist-packages (from openai) (4.15.0)\n",
            "Requirement already satisfied: idna>=2.8 in /usr/local/lib/python3.12/dist-packages (from anyio<5,>=3.5.0->openai) (3.11)\n",
            "Requirement already satisfied: certifi in /usr/local/lib/python3.12/dist-packages (from httpx<1,>=0.23.0->openai) (2025.10.5)\n",
            "Requirement already satisfied: httpcore==1.* in /usr/local/lib/python3.12/dist-packages (from httpx<1,>=0.23.0->openai) (1.0.9)\n",
            "Requirement already satisfied: h11>=0.16 in /usr/local/lib/python3.12/dist-packages (from httpcore==1.*->httpx<1,>=0.23.0->openai) (0.16.0)\n",
            "Requirement already satisfied: annotated-types>=0.6.0 in /usr/local/lib/python3.12/dist-packages (from pydantic<3,>=1.9.0->openai) (0.7.0)\n",
            "Requirement already satisfied: pydantic-core==2.33.2 in /usr/local/lib/python3.12/dist-packages (from pydantic<3,>=1.9.0->openai) (2.33.2)\n",
            "Requirement already satisfied: typing-inspection>=0.4.0 in /usr/local/lib/python3.12/dist-packages (from pydantic<3,>=1.9.0->openai) (0.4.2)\n",
            "Requirement already satisfied: six>=1.5 in /usr/local/lib/python3.12/dist-packages (from python-dateutil>=2.8.2->pandas) (1.17.0)\n",
            "Requirement already satisfied: charset_normalizer<4,>=2 in /usr/local/lib/python3.12/dist-packages (from requests->pgeocode) (3.4.4)\n",
            "Requirement already satisfied: urllib3<3,>=1.21.1 in /usr/local/lib/python3.12/dist-packages (from requests->pgeocode) (2.5.0)\n",
            "Downloading pgeocode-0.5.0-py3-none-any.whl (9.8 kB)\n",
            "Installing collected packages: pgeocode\n",
            "Successfully installed pgeocode-0.5.0\n"
          ]
        }
      ]
    },
    {
      "cell_type": "code",
      "execution_count": 5,
      "metadata": {
        "id": "g1nRY3oV_Car",
        "collapsed": true,
        "colab": {
          "base_uri": "https://localhost:8080/",
          "height": 69
        },
        "outputId": "4fc10506-b6c8-460a-9947-0428e260d89c"
      },
      "outputs": [
        {
          "output_type": "stream",
          "name": "stdout",
          "text": [
            "Found 3195 U.S. counties.\n"
          ]
        },
        {
          "output_type": "stream",
          "name": "stderr",
          "text": [
            "Estimating Debt-to-Income Ratio: 100%|██████████| 3195/3195 [03:41<00:00, 14.44it/s]"
          ]
        },
        {
          "output_type": "stream",
          "name": "stdout",
          "text": [
            "Saved 3195 rows to dti_ratio_by_county_llama-3.1-8b-instant.csv\n"
          ]
        },
        {
          "output_type": "stream",
          "name": "stderr",
          "text": [
            "\n"
          ]
        },
        {
          "output_type": "display_data",
          "data": {
            "text/plain": [
              "<IPython.core.display.Javascript object>"
            ],
            "application/javascript": [
              "\n",
              "    async function download(id, filename, size) {\n",
              "      if (!google.colab.kernel.accessAllowed) {\n",
              "        return;\n",
              "      }\n",
              "      const div = document.createElement('div');\n",
              "      const label = document.createElement('label');\n",
              "      label.textContent = `Downloading \"${filename}\": `;\n",
              "      div.appendChild(label);\n",
              "      const progress = document.createElement('progress');\n",
              "      progress.max = size;\n",
              "      div.appendChild(progress);\n",
              "      document.body.appendChild(div);\n",
              "\n",
              "      const buffers = [];\n",
              "      let downloaded = 0;\n",
              "\n",
              "      const channel = await google.colab.kernel.comms.open(id);\n",
              "      // Send a message to notify the kernel that we're ready.\n",
              "      channel.send({})\n",
              "\n",
              "      for await (const message of channel.messages) {\n",
              "        // Send a message to notify the kernel that we're ready.\n",
              "        channel.send({})\n",
              "        if (message.buffers) {\n",
              "          for (const buffer of message.buffers) {\n",
              "            buffers.push(buffer);\n",
              "            downloaded += buffer.byteLength;\n",
              "            progress.value = downloaded;\n",
              "          }\n",
              "        }\n",
              "      }\n",
              "      const blob = new Blob(buffers, {type: 'application/binary'});\n",
              "      const a = document.createElement('a');\n",
              "      a.href = window.URL.createObjectURL(blob);\n",
              "      a.download = filename;\n",
              "      div.appendChild(a);\n",
              "      a.click();\n",
              "      div.remove();\n",
              "    }\n",
              "  "
            ]
          },
          "metadata": {}
        },
        {
          "output_type": "display_data",
          "data": {
            "text/plain": [
              "<IPython.core.display.Javascript object>"
            ],
            "application/javascript": [
              "download(\"download_53f47a0c-52f4-4c74-8944-be10ade55674\", \"dti_ratio_by_county_llama-3.1-8b-instant.csv\", 143516)"
            ]
          },
          "metadata": {}
        }
      ],
      "source": [
        "import os, re, json\n",
        "from dataclasses import dataclass\n",
        "from typing import Dict, Any, List\n",
        "from concurrent.futures import ThreadPoolExecutor, as_completed\n",
        "\n",
        "import pandas as pd\n",
        "from tqdm import tqdm\n",
        "from dotenv import load_dotenv\n",
        "from openai import OpenAI\n",
        "\n",
        "AGE = 38  # average age of first-time homeowner\n",
        "\n",
        "\n",
        "# API Setup\n",
        "load_dotenv()\n",
        "API_KEY = os.getenv(\"GROQ_API_KEY\")\n",
        "BASE_URL = \"https://api.groq.com/openai/v1\"\n",
        "MODEL = \"llama-3.1-8b-instant\"\n",
        "OUTPUT_CSV = \"dti_ratio_by_county_llama-3.1-8b-instant.csv\"\n",
        "\n",
        "client = OpenAI(api_key=API_KEY, base_url=BASE_URL)\n",
        "\n",
        "SYSTEM_MSG = (\n",
        "    \"You are a careful labor-market estimator. \"\n",
        "    \"For each county, estimate the current debt-to-income ratio of residents. \"\n",
        "    \"Your output must always be strict JSON with exactly these three keys: \"\n",
        "    '{\"debt_to_income_ratio\": <float>, \"confidence\": <float>, \"area_dti_rate\": <float>}. '\n",
        "    \"debt_to_income_ratio should be the estimated county-level debt-to-income ratio as a float between 0.000 and 5.000 \"\n",
        "    \"rate_confidence should be a float between 0.000 and 0.999 representing your confidence \"\n",
        "    \"in this estimate. \"\n",
        "    \"area_dti_rate should represent your best estimate of the broader area/state debt-to-income ratio. \"\n",
        "    \"Use varied values across counties — do not cluster them. \"\n",
        "    \"Output only valid JSON, with no markdown or commentary.\"\n",
        ")\n",
        "\n",
        "def build_user_prompt(county_name: str, county_fips: str, age: int) -> str:\n",
        "    return f\"\"\"\n",
        "Task: Estimate the debt-to-income ratio for residents living in this U.S. county.\n",
        "\n",
        "Inputs:\n",
        "- County: {county_name}\n",
        "- FIPS code: {county_fips}\n",
        "\n",
        "Assumptions:\n",
        "- Use socioeconomic, industry mix, and regional priors; no personal data.\n",
        "- Do not output nulls or non-numeric values.\n",
        "\n",
        "Output requirements:\n",
        "Return only strict JSON with exactly these keys (rates as percentages 0–100):\n",
        "{{\n",
        "  \"debt_to_income_ratio\": <float>,\n",
        "  \"rate_confidence\": <float>,\n",
        "  \"area_dti_rate\": <float>\n",
        "}}\n",
        "\"\"\"\n",
        "\n",
        "JSON_ONLY = {\"type\": \"json_object\"}\n",
        "\n",
        "@dataclass\n",
        "class Estimation:\n",
        "    county_fips: str\n",
        "    county: str\n",
        "    age: int\n",
        "    debt_to_income_ratio: float\n",
        "    rate_confidence: float\n",
        "    area_dti_rate: float\n",
        "\n",
        "class ParseError(Exception):\n",
        "    pass\n",
        "\n",
        "def extract_json(text: str) -> Dict[str, Any]:\n",
        "    try:\n",
        "        return json.loads(text)\n",
        "    except json.JSONDecodeError:\n",
        "        m = re.search(r\"\\{.*\\}\", text, flags=re.S)\n",
        "        if not m:\n",
        "            raise ParseError(f\"Could not find JSON object in: {text[:200]!r}\")\n",
        "        return json.loads(m.group(0))\n",
        "\n",
        "def call_llm(county_name: str, county_fips: str, age: int) -> Dict[str, Any]:\n",
        "    resp = client.chat.completions.create(\n",
        "        model=MODEL,\n",
        "        temperature=0.5,\n",
        "        max_tokens=700,\n",
        "        response_format=JSON_ONLY,\n",
        "        messages=[\n",
        "            {\"role\": \"system\", \"content\": SYSTEM_MSG},\n",
        "            {\"role\": \"user\", \"content\": build_user_prompt(county_name, county_fips, age)},\n",
        "        ],\n",
        "    )\n",
        "    text = resp.choices[0].message.content\n",
        "    return extract_json(text)\n",
        "\n",
        "def get_us_counties() -> pd.DataFrame:\n",
        "    # Path or URL for your counties CSV\n",
        "    url = \"https://raw.githubusercontent.com/kjhealy/fips-codes/master/state_and_county_fips_master.csv\"\n",
        "\n",
        "    df = pd.read_csv(url, dtype=str)\n",
        "\n",
        "    # Ensure 5-digit FIPS and clean display names\n",
        "    df[\"county_fips_full\"] = df[\"fips\"].str.zfill(5)\n",
        "    df[\"county_display\"] = df[\"name\"].str.strip().str.title() + \", \" + df[\"state\"].str.strip()\n",
        "\n",
        "    # Drop invalid or duplicate rows\n",
        "    df = (\n",
        "        df[df[\"county_fips_full\"].str.match(r\"\\d{5}\", na=False)]\n",
        "        .drop_duplicates(\"county_fips_full\")\n",
        "        .reset_index(drop=True)\n",
        "    )\n",
        "\n",
        "    return df[[\"county_fips_full\", \"county_display\"]]\n",
        "\n",
        "def main():\n",
        "    counties = get_us_counties()\n",
        "    print(f\"Found {len(counties)} U.S. counties.\")\n",
        "    out_rows = []\n",
        "\n",
        "    max_workers = 7  # careful with rate limits\n",
        "    with ThreadPoolExecutor(max_workers=max_workers) as executor:\n",
        "        futures = {\n",
        "            executor.submit(\n",
        "                call_llm,\n",
        "                row[\"county_display\"],\n",
        "                row[\"county_fips_full\"],\n",
        "                AGE\n",
        "            ): row\n",
        "            for _, row in counties.iterrows()\n",
        "        }\n",
        "\n",
        "        for future in tqdm(as_completed(futures), total=len(futures), desc=\"Estimating Debt-to-Income Ratio\"):\n",
        "            row = futures[future]\n",
        "            try:\n",
        "                d = future.result()\n",
        "                out_rows.append({\n",
        "                    \"county_fips\": row[\"county_fips_full\"],\n",
        "                    \"county\": row[\"county_display\"],\n",
        "                    \"debt_to_income_ratio\": d[\"debt_to_income_ratio\"],\n",
        "                    \"rate_confidence\": d[\"rate_confidence\"],\n",
        "                    \"area_dti_rate\": d[\"area_dti_rate\"],\n",
        "                })\n",
        "            except:\n",
        "                out_rows.append({\n",
        "                    \"county_fips\": row[\"county_fips_full\"],\n",
        "                    \"county\": row[\"county_display\"],\n",
        "                    \"debt_to_income_ratio\": None,\n",
        "                    \"rate_confidence\": None,\n",
        "                    \"area_dti_rate\": None,\n",
        "                })\n",
        "\n",
        "    df = pd.DataFrame(out_rows)\n",
        "    df.to_csv(OUTPUT_CSV, index=False)\n",
        "    print(f\"Saved {len(df)} rows to {OUTPUT_CSV}\")\n",
        "\n",
        "    try:\n",
        "        from google.colab import files\n",
        "        files.download(OUTPUT_CSV)\n",
        "    except ImportError:\n",
        "        pass\n",
        "\n",
        "if __name__ == \"__main__\":\n",
        "    main()"
      ]
    }
  ]
}