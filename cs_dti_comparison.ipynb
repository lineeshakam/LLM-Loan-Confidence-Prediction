{
 "cells": [
  {
   "cell_type": "code",
   "execution_count": null,
   "metadata": {},
   "outputs": [],
   "source": [
    "import pandas as pd\n",
    "\n",
    "dti_data = pd.read_csv('/data/debt_to_income/merged_data_dti_llama-3.3-70b-versatile.csv')\n",
    "credit_score_data = pd.read_csv('/data/unemployment/merged_data_llama-3.3-70b-versatile.csv')\n",
    "\n",
    "print('read')"
   ]
  },
  {
   "cell_type": "code",
   "execution_count": null,
   "metadata": {},
   "outputs": [],
   "source": [
    "print(\"Demographic columns:\\n\", dti_data.columns.tolist())\n",
    "print(\"\\nDifference columns:\\n\", credit_score_data.columns.tolist())"
   ]
  }
 ],
 "metadata": {
  "language_info": {
   "name": "python"
  }
 },
 "nbformat": 4,
 "nbformat_minor": 2
}
